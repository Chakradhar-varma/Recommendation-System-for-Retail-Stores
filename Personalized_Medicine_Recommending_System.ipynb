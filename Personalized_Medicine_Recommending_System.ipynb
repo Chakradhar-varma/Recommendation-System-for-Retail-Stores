{
  "nbformat": 4,
  "nbformat_minor": 0,
  "metadata": {
    "colab": {
      "provenance": []
    },
    "kernelspec": {
      "name": "python3",
      "display_name": "Python 3"
    },
    "language_info": {
      "name": "python"
    }
  },
  "cells": [
    {
      "cell_type": "code",
      "execution_count": 3,
      "metadata": {
        "id": "A4yrD9CThjyn"
      },
      "outputs": [],
      "source": [
        "import numpy as np # linear algebra\n",
        "import pandas as pd # data processing, CSV file I/O (e.g. pd.read_csv)\n",
        "import matplotlib.pyplot as plt # for creating static, animated, and interactive visualizations\n",
        "import seaborn as sns # for statistical data visualization\n",
        "from sklearn.model_selection import train_test_split # splitting data into train and test sets\n",
        "from sklearn.preprocessing import StandardScaler # feature scaling (standardizing data)\n",
        "from sklearn.svm import SVC # Support Vector Classifier for classification tasks\n",
        "from sklearn.ensemble import RandomForestClassifier # Random Forest Classifier (ensemble method)\n",
        "from sklearn.tree import DecisionTreeClassifier # Decision Tree Classifier\n",
        "from sklearn.neighbors import KNeighborsClassifier # K-Nearest Neighbors Classifier\n",
        "from sklearn.metrics import classification_report, accuracy_score # evaluation metrics for classification"
      ]
    },
    {
      "cell_type": "code",
      "source": [
        "import os # for interacting with the operating system (file system operations)\n",
        "for dirname, _, filenames in os.walk('/kaggle/input'):  # Iterating through files in the input directory\n",
        "    for filename in filenames:  # For each file found in the directory\n",
        "        print(os.path.join(dirname, filename))  # Print the full path of the file"
      ],
      "metadata": {
        "id": "n5szwHarozIm"
      },
      "execution_count": 4,
      "outputs": []
    },
    {
      "cell_type": "code",
      "source": [
        "# loadin the datset\n",
        "data = pd.read_csv('/content/medical data.csv')"
      ],
      "metadata": {
        "id": "3IhTa9imlWyX"
      },
      "execution_count": 5,
      "outputs": []
    },
    {
      "cell_type": "code",
      "source": [
        "#   Verify Column Names\n",
        "print(data.columns)"
      ],
      "metadata": {
        "colab": {
          "base_uri": "https://localhost:8080/"
        },
        "id": "vvQ-2QkEpL5g",
        "outputId": "04ce9940-ce4a-47c7-e192-229bf022b5a6"
      },
      "execution_count": 6,
      "outputs": [
        {
          "output_type": "stream",
          "name": "stdout",
          "text": [
            "Index(['Name', 'DateOfBirth', 'Gender', 'Symptoms', 'Causes', 'Disease',\n",
            "       'Medicine'],\n",
            "      dtype='object')\n"
          ]
        }
      ]
    },
    {
      "cell_type": "code",
      "source": [
        "data.info()"
      ],
      "metadata": {
        "colab": {
          "base_uri": "https://localhost:8080/"
        },
        "id": "Cbv2qxEbpL9M",
        "outputId": "db78a26b-d3f1-4abb-df9d-a21190595f91"
      },
      "execution_count": 8,
      "outputs": [
        {
          "output_type": "stream",
          "name": "stdout",
          "text": [
            "<class 'pandas.core.frame.DataFrame'>\n",
            "RangeIndex: 287 entries, 0 to 286\n",
            "Data columns (total 7 columns):\n",
            " #   Column       Non-Null Count  Dtype \n",
            "---  ------       --------------  ----- \n",
            " 0   Name         241 non-null    object\n",
            " 1   DateOfBirth  241 non-null    object\n",
            " 2   Gender       242 non-null    object\n",
            " 3   Symptoms     247 non-null    object\n",
            " 4   Causes       245 non-null    object\n",
            " 5   Disease      249 non-null    object\n",
            " 6   Medicine     242 non-null    object\n",
            "dtypes: object(7)\n",
            "memory usage: 15.8+ KB\n"
          ]
        }
      ]
    },
    {
      "cell_type": "code",
      "source": [
        "data.isnull().sum()"
      ],
      "metadata": {
        "colab": {
          "base_uri": "https://localhost:8080/",
          "height": 303
        },
        "id": "Tq3VwO7gpL_7",
        "outputId": "576ab9dc-e1f2-4e36-82a8-4178665d4644"
      },
      "execution_count": 9,
      "outputs": [
        {
          "output_type": "execute_result",
          "data": {
            "text/plain": [
              "Name           46\n",
              "DateOfBirth    46\n",
              "Gender         45\n",
              "Symptoms       40\n",
              "Causes         42\n",
              "Disease        38\n",
              "Medicine       45\n",
              "dtype: int64"
            ],
            "text/html": [
              "<div>\n",
              "<style scoped>\n",
              "    .dataframe tbody tr th:only-of-type {\n",
              "        vertical-align: middle;\n",
              "    }\n",
              "\n",
              "    .dataframe tbody tr th {\n",
              "        vertical-align: top;\n",
              "    }\n",
              "\n",
              "    .dataframe thead th {\n",
              "        text-align: right;\n",
              "    }\n",
              "</style>\n",
              "<table border=\"1\" class=\"dataframe\">\n",
              "  <thead>\n",
              "    <tr style=\"text-align: right;\">\n",
              "      <th></th>\n",
              "      <th>0</th>\n",
              "    </tr>\n",
              "  </thead>\n",
              "  <tbody>\n",
              "    <tr>\n",
              "      <th>Name</th>\n",
              "      <td>46</td>\n",
              "    </tr>\n",
              "    <tr>\n",
              "      <th>DateOfBirth</th>\n",
              "      <td>46</td>\n",
              "    </tr>\n",
              "    <tr>\n",
              "      <th>Gender</th>\n",
              "      <td>45</td>\n",
              "    </tr>\n",
              "    <tr>\n",
              "      <th>Symptoms</th>\n",
              "      <td>40</td>\n",
              "    </tr>\n",
              "    <tr>\n",
              "      <th>Causes</th>\n",
              "      <td>42</td>\n",
              "    </tr>\n",
              "    <tr>\n",
              "      <th>Disease</th>\n",
              "      <td>38</td>\n",
              "    </tr>\n",
              "    <tr>\n",
              "      <th>Medicine</th>\n",
              "      <td>45</td>\n",
              "    </tr>\n",
              "  </tbody>\n",
              "</table>\n",
              "</div><br><label><b>dtype:</b> int64</label>"
            ]
          },
          "metadata": {},
          "execution_count": 9
        }
      ]
    },
    {
      "cell_type": "code",
      "source": [
        "# Check for missing values in each column\n",
        "missing_values = data.isnull().sum()\n",
        "\n",
        "# Display columns with missing values\n",
        "print(missing_values[missing_values > 0])"
      ],
      "metadata": {
        "colab": {
          "base_uri": "https://localhost:8080/"
        },
        "id": "Uiawyf6zpMDB",
        "outputId": "c1d976dd-034f-4eb8-de13-a6b34d0f4678"
      },
      "execution_count": 10,
      "outputs": [
        {
          "output_type": "stream",
          "name": "stdout",
          "text": [
            "Name           46\n",
            "DateOfBirth    46\n",
            "Gender         45\n",
            "Symptoms       40\n",
            "Causes         42\n",
            "Disease        38\n",
            "Medicine       45\n",
            "dtype: int64\n"
          ]
        }
      ]
    },
    {
      "cell_type": "code",
      "source": [
        "# Handling missing values---i use  Data Imputation\n",
        "# Numeric Columns (DateOfBirth): I impute missing values using the mean or median.\n",
        "data['DateOfBirth'] = pd.to_datetime(data['DateOfBirth'], errors='coerce')\n",
        "\n",
        "# Calculate median excluding NaT values (Not a time)\n",
        "median_date = data['DateOfBirth'].dropna().median()\n",
        "\n",
        "# Fill missing values with the median date\n",
        "data['DateOfBirth'].fillna(median_date, inplace=True)\n",
        "\n",
        "# Categorical Columns (Gender, Symptoms, Causes, Disease, Medicine):I impute missing values with the mode (most frequent value).\n",
        "categorical_columns = ['Gender', 'Symptoms', 'Causes', 'Disease', 'Medicine']\n",
        "for column in categorical_columns:\n",
        "    data[column].fillna(data[column].mode()[0], inplace=True)"
      ],
      "metadata": {
        "id": "_WGI3I8CpMGu"
      },
      "execution_count": 11,
      "outputs": []
    },
    {
      "cell_type": "code",
      "source": [
        "# Check for missing values in each column\n",
        "missing_values = data.isnull().sum()\n",
        "\n",
        "# Display columns with missing values\n",
        "print(missing_values[missing_values > 0])"
      ],
      "metadata": {
        "colab": {
          "base_uri": "https://localhost:8080/"
        },
        "id": "oU3eH_5FqGiq",
        "outputId": "212a20d9-5ca9-4992-dd2d-cc3879d09f9c"
      },
      "execution_count": 12,
      "outputs": [
        {
          "output_type": "stream",
          "name": "stdout",
          "text": [
            "Name    46\n",
            "dtype: int64\n"
          ]
        }
      ]
    },
    {
      "cell_type": "code",
      "source": [
        "# Handle the missing values in column Name by imputation method\n",
        "data['Name'].fillna('Unknown', inplace=True)"
      ],
      "metadata": {
        "id": "AI-7HAoKqGpm"
      },
      "execution_count": 13,
      "outputs": []
    },
    {
      "cell_type": "code",
      "source": [
        "data.isnull().sum()"
      ],
      "metadata": {
        "colab": {
          "base_uri": "https://localhost:8080/",
          "height": 303
        },
        "id": "FETFNmmxqGuf",
        "outputId": "19ab372e-899f-412d-f833-aff751456e13"
      },
      "execution_count": 14,
      "outputs": [
        {
          "output_type": "execute_result",
          "data": {
            "text/plain": [
              "Name           0\n",
              "DateOfBirth    0\n",
              "Gender         0\n",
              "Symptoms       0\n",
              "Causes         0\n",
              "Disease        0\n",
              "Medicine       0\n",
              "dtype: int64"
            ],
            "text/html": [
              "<div>\n",
              "<style scoped>\n",
              "    .dataframe tbody tr th:only-of-type {\n",
              "        vertical-align: middle;\n",
              "    }\n",
              "\n",
              "    .dataframe tbody tr th {\n",
              "        vertical-align: top;\n",
              "    }\n",
              "\n",
              "    .dataframe thead th {\n",
              "        text-align: right;\n",
              "    }\n",
              "</style>\n",
              "<table border=\"1\" class=\"dataframe\">\n",
              "  <thead>\n",
              "    <tr style=\"text-align: right;\">\n",
              "      <th></th>\n",
              "      <th>0</th>\n",
              "    </tr>\n",
              "  </thead>\n",
              "  <tbody>\n",
              "    <tr>\n",
              "      <th>Name</th>\n",
              "      <td>0</td>\n",
              "    </tr>\n",
              "    <tr>\n",
              "      <th>DateOfBirth</th>\n",
              "      <td>0</td>\n",
              "    </tr>\n",
              "    <tr>\n",
              "      <th>Gender</th>\n",
              "      <td>0</td>\n",
              "    </tr>\n",
              "    <tr>\n",
              "      <th>Symptoms</th>\n",
              "      <td>0</td>\n",
              "    </tr>\n",
              "    <tr>\n",
              "      <th>Causes</th>\n",
              "      <td>0</td>\n",
              "    </tr>\n",
              "    <tr>\n",
              "      <th>Disease</th>\n",
              "      <td>0</td>\n",
              "    </tr>\n",
              "    <tr>\n",
              "      <th>Medicine</th>\n",
              "      <td>0</td>\n",
              "    </tr>\n",
              "  </tbody>\n",
              "</table>\n",
              "</div><br><label><b>dtype:</b> int64</label>"
            ]
          },
          "metadata": {},
          "execution_count": 14
        }
      ]
    },
    {
      "cell_type": "code",
      "source": [
        "# Check for missing values in each column\n",
        "missing_values = data.isnull().sum()\n",
        "\n",
        "# Display columns with missing values\n",
        "print(missing_values[missing_values > 0])"
      ],
      "metadata": {
        "colab": {
          "base_uri": "https://localhost:8080/"
        },
        "id": "Ij74Y70KqGxv",
        "outputId": "4ec51016-15ca-4091-edcc-1917baf4c866"
      },
      "execution_count": 15,
      "outputs": [
        {
          "output_type": "stream",
          "name": "stdout",
          "text": [
            "Series([], dtype: int64)\n"
          ]
        }
      ]
    },
    {
      "cell_type": "code",
      "source": [
        "# Since most of my data is categorical, i want to encode it into a numerical format suitable for machine learning models.\n",
        "import pandas as pd\n",
        "from sklearn.preprocessing import LabelEncoder\n",
        "\n",
        "# Encode categorical variables\n",
        "label_encoders = {}\n",
        "for column in data.columns:\n",
        "    if data[column].dtype == 'object':\n",
        "        le = LabelEncoder()\n",
        "        data[column] = le.fit_transform(data[column])\n",
        "        label_encoders[column] = le"
      ],
      "metadata": {
        "id": "GLryvZGlqG1G"
      },
      "execution_count": 16,
      "outputs": []
    },
    {
      "cell_type": "code",
      "source": [
        "# Exploratory Data Analysis (EDA)\n",
        "# Class distribution for Medicine\n",
        "sns.countplot(data=data, x='Medicine')\n",
        "plt.title('Distribution of Medicine')\n",
        "plt.show()\n",
        "\n",
        "# Correlation heatmap for numerical columns\n",
        "numeric_columns = ['DateOfBirth']\n",
        "sns.heatmap(data[numeric_columns].corr(), annot=True, cmap='coolwarm')\n",
        "plt.title('Correlation Heatmap')\n",
        "plt.show()"
      ],
      "metadata": {
        "colab": {
          "base_uri": "https://localhost:8080/",
          "height": 907
        },
        "id": "3I836_EWqG4u",
        "outputId": "34ee7c57-0626-4b83-8610-8c9091cf3f47"
      },
      "execution_count": 17,
      "outputs": [
        {
          "output_type": "display_data",
          "data": {
            "text/plain": [
              "<Figure size 640x480 with 1 Axes>"
            ],
            "image/png": "[encoded data removed]"
          },
          "metadata": {}
        },
        {
          "output_type": "display_data",
          "data": {
            "text/plain": [
              "<Figure size 640x480 with 2 Axes>"
            ],
            "image/png": "[encoded data removed]"
          },
          "metadata": {}
        }
      ]
    },
    {
      "cell_type": "code",
      "source": [
        "# Data Processing : We need to encode categorical variables for the machine learning models.\n",
        "from sklearn.preprocessing import LabelEncoder\n",
        "\n",
        "encoder = LabelEncoder()\n",
        "for column in categorical_columns:\n",
        "    data[column] = encoder.fit_transform(data[column])"
      ],
      "metadata": {
        "id": "50yCesNJqadS"
      },
      "execution_count": 18,
      "outputs": []
    },
    {
      "cell_type": "code",
      "source": [
        "# splitting the datset: We divide the dataset into training and testing sets.\n",
        "from sklearn.model_selection import train_test_split\n",
        "\n",
        "X = data.drop('Medicine', axis=1)\n",
        "y = data['Medicine']\n",
        "\n",
        "X_train, X_test, y_train, y_test = train_test_split(X, y, test_size=0.2, random_state=42)"
      ],
      "metadata": {
        "id": "W2oXttDzqaoY"
      },
      "execution_count": 19,
      "outputs": []
    },
    {
      "cell_type": "code",
      "source": [
        "# Drop the DateOfBirth column from the datasets\n",
        "X_train = X_train.drop('DateOfBirth', axis=1)\n",
        "X_test = X_test.drop('DateOfBirth', axis=1)\n",
        "\n",
        "# Fit the Decision Tree Classifier\n",
        "dt_classifier = DecisionTreeClassifier(random_state=42)\n",
        "dt_classifier.fit(X_train, y_train)\n",
        "\n",
        "# Make predictions and evaluate\n",
        "y_pred_dt = dt_classifier.predict(X_test)\n",
        "accuracy_dt = accuracy_score(y_test, y_pred_dt)\n",
        "print(f\"Decision Tree Accuracy: {accuracy_dt}\")"
      ],
      "metadata": {
        "colab": {
          "base_uri": "https://localhost:8080/"
        },
        "id": "XlpWWArAqayT",
        "outputId": "dbc3b018-0189-4f0e-cab7-5608adc28012"
      },
      "execution_count": 20,
      "outputs": [
        {
          "output_type": "stream",
          "name": "stdout",
          "text": [
            "Decision Tree Accuracy: 0.8448275862068966\n"
          ]
        }
      ]
    },
    {
      "cell_type": "code",
      "source": [
        "# Random classifier\n",
        "from sklearn.ensemble import RandomForestClassifier\n",
        "\n",
        "rf_classifier = RandomForestClassifier(random_state=42)\n",
        "rf_classifier.fit(X_train, y_train)\n",
        "\n",
        "y_pred_rf = rf_classifier.predict(X_test)\n",
        "accuracy_rf = accuracy_score(y_test, y_pred_rf)\n",
        "print(f\"Random Forest Accuracy: {accuracy_rf}\")"
      ],
      "metadata": {
        "colab": {
          "base_uri": "https://localhost:8080/"
        },
        "id": "RaxYrTYgqa1a",
        "outputId": "93e2b215-6be7-4466-dbeb-212c9dc28a76"
      },
      "execution_count": 21,
      "outputs": [
        {
          "output_type": "stream",
          "name": "stdout",
          "text": [
            "Random Forest Accuracy: 0.896551724137931\n"
          ]
        }
      ]
    },
    {
      "cell_type": "code",
      "source": [
        "# Logistic Regression (for binary classification)\n",
        "from sklearn.linear_model import LogisticRegression\n",
        "\n",
        "logreg_classifier = LogisticRegression(random_state=42)\n",
        "logreg_classifier.fit(X_train, y_train)\n",
        "\n",
        "y_pred_logreg = logreg_classifier.predict(X_test)\n",
        "accuracy_logreg = accuracy_score(y_test, y_pred_logreg)\n",
        "print(f\"Logistic Regression Accuracy: {accuracy_logreg}\")"
      ],
      "metadata": {
        "colab": {
          "base_uri": "https://localhost:8080/"
        },
        "id": "Ioe1zWQ-qa42",
        "outputId": "8b0489ca-c8b8-4e8c-ba42-a82405607c16"
      },
      "execution_count": 22,
      "outputs": [
        {
          "output_type": "stream",
          "name": "stdout",
          "text": [
            "Logistic Regression Accuracy: 0.5344827586206896\n"
          ]
        }
      ]
    },
    {
      "cell_type": "code",
      "source": [
        "# model evaluation---lets Evaluate the models using accuracy, precision, recall, and F1-score.\n",
        "from sklearn.metrics import classification_report\n",
        "\n",
        "print(\"Decision Tree Classification Report:\")\n",
        "print(classification_report(y_test, y_pred_dt))\n",
        "\n",
        "print(\"\\nRandom Forest Classification Report:\")\n",
        "print(classification_report(y_test, y_pred_rf))\n",
        "\n",
        "print(\"\\nLogistic Regression Classification Report:\")\n",
        "print(classification_report(y_test, y_pred_logreg))"
      ],
      "metadata": {
        "colab": {
          "base_uri": "https://localhost:8080/"
        },
        "id": "nB1WH1yaqi_x",
        "outputId": "a0b5683c-8a2c-4c22-9fb5-2c187d64a34d"
      },
      "execution_count": 23,
      "outputs": [
        {
          "output_type": "stream",
          "name": "stdout",
          "text": [
            "Decision Tree Classification Report:\n",
            "              precision    recall  f1-score   support\n",
            "\n",
            "           5       0.00      0.00      0.00         0\n",
            "           9       0.00      0.00      0.00         1\n",
            "          10       0.00      0.00      0.00         1\n",
            "          13       0.00      0.00      0.00         1\n",
            "          15       0.00      0.00      0.00         0\n",
            "          19       1.00      1.00      1.00         1\n",
            "          20       1.00      0.50      0.67         2\n",
            "          21       0.00      0.00      0.00         0\n",
            "          22       1.00      1.00      1.00         1\n",
            "          23       1.00      1.00      1.00         3\n",
            "          27       1.00      1.00      1.00         2\n",
            "          28       0.50      1.00      0.67         1\n",
            "          29       0.50      1.00      0.67         1\n",
            "          31       1.00      1.00      1.00         3\n",
            "          32       1.00      1.00      1.00         4\n",
            "          35       0.00      0.00      0.00         0\n",
            "          38       1.00      1.00      1.00         2\n",
            "          40       1.00      1.00      1.00         1\n",
            "          41       1.00      0.67      0.80         3\n",
            "          44       1.00      0.67      0.80         3\n",
            "          45       1.00      1.00      1.00         2\n",
            "          46       1.00      0.50      0.67         2\n",
            "          47       1.00      1.00      1.00         2\n",
            "          50       1.00      1.00      1.00         2\n",
            "          51       0.94      1.00      0.97        15\n",
            "          53       1.00      1.00      1.00         1\n",
            "          54       0.00      0.00      0.00         1\n",
            "          56       0.00      0.00      0.00         0\n",
            "          57       1.00      0.67      0.80         3\n",
            "\n",
            "    accuracy                           0.84        58\n",
            "   macro avg       0.65      0.62      0.62        58\n",
            "weighted avg       0.90      0.84      0.86        58\n",
            "\n",
            "\n",
            "Random Forest Classification Report:\n",
            "              precision    recall  f1-score   support\n",
            "\n",
            "           9       0.00      0.00      0.00         1\n",
            "          10       0.00      0.00      0.00         1\n",
            "          13       0.00      0.00      0.00         1\n",
            "          15       0.00      0.00      0.00         0\n",
            "          19       1.00      1.00      1.00         1\n",
            "          20       1.00      1.00      1.00         2\n",
            "          21       0.00      0.00      0.00         0\n",
            "          22       1.00      1.00      1.00         1\n",
            "          23       1.00      1.00      1.00         3\n",
            "          27       1.00      1.00      1.00         2\n",
            "          28       1.00      1.00      1.00         1\n",
            "          29       0.50      1.00      0.67         1\n",
            "          31       1.00      1.00      1.00         3\n",
            "          32       1.00      1.00      1.00         4\n",
            "          35       0.00      0.00      0.00         0\n",
            "          38       1.00      1.00      1.00         2\n",
            "          39       0.00      0.00      0.00         0\n",
            "          40       1.00      1.00      1.00         1\n",
            "          41       1.00      1.00      1.00         3\n",
            "          44       1.00      1.00      1.00         3\n",
            "          45       1.00      1.00      1.00         2\n",
            "          46       1.00      0.50      0.67         2\n",
            "          47       1.00      1.00      1.00         2\n",
            "          50       1.00      1.00      1.00         2\n",
            "          51       0.94      1.00      0.97        15\n",
            "          53       1.00      1.00      1.00         1\n",
            "          54       0.00      0.00      0.00         1\n",
            "          57       1.00      0.67      0.80         3\n",
            "\n",
            "    accuracy                           0.90        58\n",
            "   macro avg       0.69      0.68      0.68        58\n",
            "weighted avg       0.91      0.90      0.90        58\n",
            "\n",
            "\n",
            "Logistic Regression Classification Report:\n",
            "              precision    recall  f1-score   support\n",
            "\n",
            "           5       0.00      0.00      0.00         0\n",
            "           9       0.00      0.00      0.00         1\n",
            "          10       0.00      0.00      0.00         1\n",
            "          13       0.00      0.00      0.00         1\n",
            "          19       0.00      0.00      0.00         1\n",
            "          20       1.00      0.50      0.67         2\n",
            "          21       0.00      0.00      0.00         0\n",
            "          22       0.50      1.00      0.67         1\n",
            "          23       1.00      1.00      1.00         3\n",
            "          27       1.00      0.50      0.67         2\n",
            "          28       1.00      1.00      1.00         1\n",
            "          29       0.33      1.00      0.50         1\n",
            "          31       0.00      0.00      0.00         3\n",
            "          32       1.00      1.00      1.00         4\n",
            "          38       0.00      0.00      0.00         2\n",
            "          39       0.00      0.00      0.00         0\n",
            "          40       1.00      1.00      1.00         1\n",
            "          41       1.00      0.33      0.50         3\n",
            "          44       0.14      0.33      0.20         3\n",
            "          45       0.00      0.00      0.00         2\n",
            "          46       0.50      0.50      0.50         2\n",
            "          47       0.50      1.00      0.67         2\n",
            "          50       1.00      1.00      1.00         2\n",
            "          51       0.69      0.60      0.64        15\n",
            "          53       0.50      1.00      0.67         1\n",
            "          54       0.00      0.00      0.00         1\n",
            "          56       0.00      0.00      0.00         0\n",
            "          57       1.00      0.33      0.50         3\n",
            "\n",
            "    accuracy                           0.53        58\n",
            "   macro avg       0.43      0.43      0.40        58\n",
            "weighted avg       0.61      0.53      0.54        58\n",
            "\n"
          ]
        }
      ]
    },
    {
      "cell_type": "markdown",
      "source": [
        "**Decision Tree has an accuracy of 0.84 and an f1-score (weighted average) of 0.86.**\n"
      ],
      "metadata": {
        "id": "_441rY73qyJV"
      }
    },
    {
      "cell_type": "markdown",
      "source": [
        "\n",
        "**Random Forest has an accuracy of 0.90 and an f1-score (weighted average) of 0.90.**\n"
      ],
      "metadata": {
        "id": "OGwCXqXMvGtk"
      }
    },
    {
      "cell_type": "markdown",
      "source": [
        "\n",
        "\n",
        "**Logistic Regression has an accuracy of 0.53 and an f1-score (weighted average) of 0.54.**\n",
        "\n"
      ],
      "metadata": {
        "id": "G-adFoUavIwk"
      }
    },
    {
      "cell_type": "markdown",
      "source": [
        "\n",
        "**Random Forest seems to be the best model among the three based on both accuracy and the f1-score, as it has the highest values for both metrics.**"
      ],
      "metadata": {
        "id": "Jmhov3tPvLKd"
      }
    },
    {
      "cell_type": "code",
      "source": [
        "# Model Interpretation\n",
        "\n",
        "import matplotlib.pyplot as plt\n",
        "\n",
        "# lets get feature importances\n",
        "importances = rf_classifier.feature_importances_\n",
        "\n",
        "# lets sort feature importances in descending order\n",
        "indices = np.argsort(importances)[::-1]\n",
        "\n",
        "# Rearrange feature names so they match the sorted feature importances\n",
        "names = [X.columns[i] for i in indices]\n",
        "\n",
        "# Create plot\n",
        "plt.figure()\n",
        "\n",
        "# Create plot title\n",
        "plt.title(\"Feature Importance\")\n",
        "\n",
        "# Add bars\n",
        "plt.bar(range(len(importances)), importances[indices]) # Corrected: Use len(importances) instead of X.shape[1]\n",
        "\n",
        "# Add feature names as x-axis labels\n",
        "plt.xticks(range(len(importances)), names, rotation=90) # Corrected: Use len(importances) instead of X.shape[1]\n",
        "\n",
        "# Show plot\n",
        "plt.show()\n",
        "\n"
      ],
      "metadata": {
        "colab": {
          "base_uri": "https://localhost:8080/",
          "height": 521
        },
        "id": "GJmbSbzqqjH_",
        "outputId": "55028670-cded-4fc2-9429-9f776787ea4c"
      },
      "execution_count": 29,
      "outputs": [
        {
          "output_type": "display_data",
          "data": {
            "text/plain": [
              "<Figure size 640x480 with 1 Axes>"
            ],
            "image/png": "[encoded data removed]"
          },
          "metadata": {}
        }
      ]
    },
    {
      "cell_type": "code",
      "source": [],
      "metadata": {
        "id": "IFQLwzTvqjOD"
      },
      "execution_count": null,
      "outputs": []
    }
  ]
}